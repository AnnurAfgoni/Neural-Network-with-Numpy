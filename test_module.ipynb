{
 "cells": [
  {
   "cell_type": "markdown",
   "metadata": {},
   "source": [
    "# Import Module"
   ]
  },
  {
   "cell_type": "code",
   "execution_count": 4,
   "metadata": {},
   "outputs": [],
   "source": [
    "import numpy as np\n",
    "np.random.seed(42)\n",
    "\n",
    "# import our own module\n",
    "from NumpyNeuralNetwork import Neuron"
   ]
  },
  {
   "cell_type": "markdown",
   "metadata": {},
   "source": [
    "# Data Input"
   ]
  },
  {
   "cell_type": "markdown",
   "id": "adfe6b03",
   "metadata": {},
   "source": [
    "Data will be imputed to our neural network module. Highlight value of weight and bias, because that will be result of prediction."
   ]
  },
  {
   "cell_type": "code",
   "execution_count": 5,
   "id": "e6a248c5",
   "metadata": {},
   "outputs": [],
   "source": [
    "weight = 3\n",
    "bias = 6\n",
    "\n",
    "# generate simple data\n",
    "x = np.random.rand(1,1)\n",
    "y = weight*x + bias"
   ]
  },
  {
   "cell_type": "code",
   "execution_count": 6,
   "id": "9b347547",
   "metadata": {},
   "outputs": [
    {
     "name": "stdout",
     "output_type": "stream",
     "text": [
      "weight =  3 \n",
      "bias =  6\n"
     ]
    }
   ],
   "source": [
    "print(\"weight = \", weight, \"\\nbias = \", bias)"
   ]
  },
  {
   "cell_type": "markdown",
   "metadata": {},
   "source": [
    "# Theory"
   ]
  },
  {
   "cell_type": "markdown",
   "id": "f3dbc4d8",
   "metadata": {},
   "source": [
    "**Rumus untuk Neural Network**"
   ]
  },
  {
   "cell_type": "markdown",
   "id": "2a32cf48",
   "metadata": {},
   "source": [
    "$$z = \\sigma \\sum_{i=1}^{n}\\left ( \\vec{x_i}\\vec{w_i} \\right ) + b$$"
   ]
  },
  {
   "cell_type": "markdown",
   "id": "17f48008",
   "metadata": {},
   "source": [
    "* $\\sigma$ : fungsi aktivasi\n",
    "* $x_i$ : data input\n",
    "* $w_i$ : nilai weight\n",
    "* $b$ : nilai bias"
   ]
  },
  {
   "cell_type": "markdown",
   "id": "a5ac68f7",
   "metadata": {},
   "source": [
    "**Rumus Loss/Cost function : menggunakan Mean Squared Error**"
   ]
  },
  {
   "cell_type": "markdown",
   "id": "31b1daa0",
   "metadata": {},
   "source": [
    "$$MSE = \\frac{1}{n}\\sum_{i = 1}^{n}(Y_i - \\hat{Y_i})^2$$"
   ]
  },
  {
   "cell_type": "markdown",
   "id": "2e8991e3",
   "metadata": {},
   "source": [
    "* $Y_i$ : nilai yang akan diprediksi\n",
    "* $\\hat{Y_i}$ : nilai prediksi"
   ]
  },
  {
   "cell_type": "markdown",
   "id": "5a135348",
   "metadata": {},
   "source": [
    "**gradient descent**"
   ]
  },
  {
   "cell_type": "markdown",
   "id": "651014d8",
   "metadata": {},
   "source": [
    "$$W' = W + \\alpha \\frac{dL}{dW}$$"
   ]
  },
  {
   "cell_type": "markdown",
   "id": "2879dd3e",
   "metadata": {},
   "source": [
    "$$b' = b + \\alpha \\frac{dL}{db}$$"
   ]
  },
  {
   "cell_type": "markdown",
   "id": "4b039168",
   "metadata": {},
   "source": [
    "* $\\alpha$ : learning rate\n",
    "* $L$ : Lost function"
   ]
  },
  {
   "cell_type": "markdown",
   "metadata": {},
   "source": [
    "# Modelling"
   ]
  },
  {
   "cell_type": "code",
   "execution_count": 8,
   "id": "f8e9f94d",
   "metadata": {},
   "outputs": [
    {
     "name": "stdout",
     "output_type": "stream",
     "text": [
      "epochs: 1 ======== acc: [-3542.78126865]\n",
      "epochs: 2 ======== acc: [28.31530024]\n",
      "epochs: 3 ======== acc: [98.58934814]\n",
      "epochs: 4 ======== acc: [99.9722404]\n",
      "epochs: 5 ======== acc: [99.99945373]\n",
      "epochs: 6 ======== acc: [99.99998925]\n",
      "epochs: 7 ======== acc: [99.99999979]\n",
      "epochs: 8 ======== acc: [100.]\n",
      "epochs: 9 ======== acc: [100.]\n",
      "epochs: 10 ======== acc: [100.]\n"
     ]
    }
   ],
   "source": [
    "# define model\n",
    "neuron = Neuron(1, 0.5, 10)\n",
    "\n",
    "# training\n",
    "a, b, c, d = neuron.train(x, y)"
   ]
  },
  {
   "cell_type": "code",
   "execution_count": 9,
   "id": "f81c9789",
   "metadata": {},
   "outputs": [
    {
     "name": "stdout",
     "output_type": "stream",
     "text": [
      "weight =  [[2.93316899]] \n",
      "bias =  [[6.02503088]]\n"
     ]
    }
   ],
   "source": [
    "# nilai weight dan bias\n",
    "\n",
    "print(\"weight = \", c, \"\\nbias = \", d)"
   ]
  },
  {
   "cell_type": "code",
   "execution_count": null,
   "id": "480f5c4d",
   "metadata": {},
   "outputs": [],
   "source": []
  }
 ],
 "metadata": {
  "kernelspec": {
   "display_name": "Python 3 (ipykernel)",
   "language": "python",
   "name": "python3"
  },
  "language_info": {
   "codemirror_mode": {
    "name": "ipython",
    "version": 3
   },
   "file_extension": ".py",
   "mimetype": "text/x-python",
   "name": "python",
   "nbconvert_exporter": "python",
   "pygments_lexer": "ipython3",
   "version": "3.10.0"
  }
 },
 "nbformat": 4,
 "nbformat_minor": 5
}
