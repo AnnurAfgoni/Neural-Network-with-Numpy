{
 "cells": [
  {
   "cell_type": "code",
   "execution_count": 1,
   "id": "aa8f0960",
   "metadata": {},
   "outputs": [],
   "source": [
    "import numpy as np\n",
    "\n",
    "np.random.seed(42)"
   ]
  },
  {
   "cell_type": "markdown",
   "id": "adfe6b03",
   "metadata": {},
   "source": [
    "Data yang akan dimasukkan ketika training :"
   ]
  },
  {
   "cell_type": "code",
   "execution_count": 2,
   "id": "e6a248c5",
   "metadata": {},
   "outputs": [],
   "source": [
    "weight = 3\n",
    "bias = 6\n",
    "\n",
    "x = np.random.rand(1,1)\n",
    "y = weight*x + bias"
   ]
  },
  {
   "cell_type": "code",
   "execution_count": 3,
   "id": "9b347547",
   "metadata": {},
   "outputs": [
    {
     "name": "stdout",
     "output_type": "stream",
     "text": [
      "weight =  3 \n",
      "bias =  6\n"
     ]
    }
   ],
   "source": [
    "print(\"weight = \", weight, \"\\nbias = \", bias)"
   ]
  },
  {
   "cell_type": "markdown",
   "id": "f3dbc4d8",
   "metadata": {},
   "source": [
    "**Rumus untuk Neural Network**"
   ]
  },
  {
   "cell_type": "markdown",
   "id": "2a32cf48",
   "metadata": {},
   "source": [
    "$$z = \\sigma \\sum_{i=1}^{n}\\left ( \\vec{x_i}\\vec{w_i} \\right ) + b$$"
   ]
  },
  {
   "cell_type": "markdown",
   "id": "17f48008",
   "metadata": {},
   "source": [
    "* $\\sigma$ : fungsi aktivasi\n",
    "* $x_i$ : data input\n",
    "* $w_i$ : nilai weight\n",
    "* $b$ : nilai bias"
   ]
  },
  {
   "cell_type": "markdown",
   "id": "a5ac68f7",
   "metadata": {},
   "source": [
    "**Rumus Loss/Cost function : menggunakan Mean Squared Error**"
   ]
  },
  {
   "cell_type": "markdown",
   "id": "31b1daa0",
   "metadata": {},
   "source": [
    "$$MSE = \\frac{1}{n}\\sum_{i = 1}^{n}(Y_i - \\hat{Y_i})^2$$"
   ]
  },
  {
   "cell_type": "markdown",
   "id": "2e8991e3",
   "metadata": {},
   "source": [
    "* $Y_i$ : nilai yang akan diprediksi\n",
    "* $\\hat{Y_i}$ : nilai prediksi"
   ]
  },
  {
   "cell_type": "markdown",
   "id": "5a135348",
   "metadata": {},
   "source": [
    "**gradient descent**"
   ]
  },
  {
   "cell_type": "markdown",
   "id": "651014d8",
   "metadata": {},
   "source": [
    "$$W' = W + \\alpha \\frac{dL}{dW}$$"
   ]
  },
  {
   "cell_type": "markdown",
   "id": "2879dd3e",
   "metadata": {},
   "source": [
    "$$b' = b + \\alpha \\frac{dL}{db}$$"
   ]
  },
  {
   "cell_type": "markdown",
   "id": "4b039168",
   "metadata": {},
   "source": [
    "* $\\alpha$ : learning rate\n",
    "* $L$ : Lost function"
   ]
  },
  {
   "cell_type": "code",
   "execution_count": 4,
   "id": "446f9234",
   "metadata": {},
   "outputs": [],
   "source": [
    "class Neuron:\n",
    "    \n",
    "    def __init__(self, input_size, learning_rate, epoch):\n",
    "        \"\"\"\n",
    "            input_size = jumlah baris dari input\n",
    "        \"\"\"\n",
    "        self.w = np.random.rand(input_size, 1)\n",
    "        self.bias = np.random.rand(1, 1)\n",
    "        self.learning_rate = learning_rate\n",
    "        self.epoch = epoch\n",
    "        \n",
    "    # method for feedforward\n",
    "    def f_forward(self, inp):\n",
    "        \"\"\"\n",
    "            inp = data input\n",
    "        \"\"\"\n",
    "        result = inp.T.dot(self.w) + self.bias\n",
    "        return result\n",
    "    \n",
    "    # mean squared error\n",
    "    def loss(self, x, y):\n",
    "        \"\"\"\n",
    "            x = data input\n",
    "            y = real output\n",
    "        \"\"\"\n",
    "        a = self.f_forward(x)\n",
    "        L = (a - y)**2\n",
    "        return L\n",
    "    \n",
    "    # backpropagation\n",
    "    def backward(self, x, y):\n",
    "        \"\"\"\n",
    "            x = data input\n",
    "            y = real output\n",
    "        \"\"\"\n",
    "        a = self.f_forward(x)\n",
    "        \n",
    "        dw = 2.*(a - y) * x.T\n",
    "        db = 2.*(a - y) * 1.\n",
    "        \n",
    "        # gradient descent\n",
    "        self.w = self.w - self.learning_rate * dw.T\n",
    "        self.bias = self.bias - self.learning_rate * db.T\n",
    "        \n",
    "        return self.w, self.bias\n",
    "    \n",
    "    def train(self, x, y):\n",
    "        \"\"\"\n",
    "            x = data input\n",
    "            y = real output\n",
    "        \"\"\"\n",
    "        acc = []\n",
    "        losss = []\n",
    "        for j in range(self.epoch):\n",
    "            l = []\n",
    "            for i in range(x.shape[0]):\n",
    "                l = self.loss(x, y)\n",
    "                w1, b1 = self.backward(x, y)\n",
    "            print(\"epochs:\", j + 1, \"======== acc:\", (1 - (sum(l)/x.shape[0]))*100)\n",
    "            acc.append((1 - (sum(l)/x.shape[0]))*100)\n",
    "            losss.append(sum(l)/x.shape[0])\n",
    "        return (acc, losss, w1, b1)\n",
    "    \n",
    "    \"\"\"def prediksi(self, x, y, value):\n",
    "        _ , __, w1, b1 = self.train(x, y)\n",
    "        pred = value.T.dot(w1) + b1\n",
    "        return pred\"\"\""
   ]
  },
  {
   "cell_type": "code",
   "execution_count": 5,
   "id": "f8e9f94d",
   "metadata": {},
   "outputs": [
    {
     "name": "stdout",
     "output_type": "stream",
     "text": [
      "epochs: 1 ======== acc: [-3542.78126865]\n",
      "epochs: 2 ======== acc: [28.31530024]\n",
      "epochs: 3 ======== acc: [98.58934814]\n",
      "epochs: 4 ======== acc: [99.9722404]\n",
      "epochs: 5 ======== acc: [99.99945373]\n",
      "epochs: 6 ======== acc: [99.99998925]\n",
      "epochs: 7 ======== acc: [99.99999979]\n",
      "epochs: 8 ======== acc: [100.]\n",
      "epochs: 9 ======== acc: [100.]\n",
      "epochs: 10 ======== acc: [100.]\n"
     ]
    }
   ],
   "source": [
    "neuron = Neuron(1, 0.5, 10)\n",
    "a, b, c, d = neuron.train(x, y)"
   ]
  },
  {
   "cell_type": "code",
   "execution_count": 6,
   "id": "f81c9789",
   "metadata": {},
   "outputs": [
    {
     "name": "stdout",
     "output_type": "stream",
     "text": [
      "weight =  [[2.93316899]] \n",
      "bias =  [[6.02503088]]\n"
     ]
    }
   ],
   "source": [
    "# nilai weight dan bias\n",
    "\n",
    "print(\"weight = \", c, \"\\nbias = \", d)"
   ]
  },
  {
   "cell_type": "code",
   "execution_count": null,
   "id": "480f5c4d",
   "metadata": {},
   "outputs": [],
   "source": []
  }
 ],
 "metadata": {
  "kernelspec": {
   "display_name": "Python 3 (ipykernel)",
   "language": "python",
   "name": "python3"
  },
  "language_info": {
   "codemirror_mode": {
    "name": "ipython",
    "version": 3
   },
   "file_extension": ".py",
   "mimetype": "text/x-python",
   "name": "python",
   "nbconvert_exporter": "python",
   "pygments_lexer": "ipython3",
   "version": "3.9.7"
  }
 },
 "nbformat": 4,
 "nbformat_minor": 5
}
