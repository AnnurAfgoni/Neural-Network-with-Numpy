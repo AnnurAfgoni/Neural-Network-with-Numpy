{
 "cells": [
  {
   "cell_type": "code",
   "execution_count": 1,
   "id": "aa8f0960",
   "metadata": {},
   "outputs": [],
   "source": [
    "import numpy as np"
   ]
  },
  {
   "cell_type": "code",
   "execution_count": 2,
   "id": "ef9da793",
   "metadata": {},
   "outputs": [],
   "source": [
    "np.random.seed(42)"
   ]
  },
  {
   "cell_type": "markdown",
   "id": "428f36c3",
   "metadata": {},
   "source": [
    "input yang dihitung adalah jumlah kolom, tapi dalam komputasi ini kita gunakan juml;ah baris"
   ]
  },
  {
   "cell_type": "markdown",
   "id": "0f98387b",
   "metadata": {},
   "source": [
    "setiap vektor yang di inisiasi harus dalam bentuk baris x kolom"
   ]
  },
  {
   "cell_type": "code",
   "execution_count": 3,
   "id": "e6a248c5",
   "metadata": {},
   "outputs": [
    {
     "name": "stdout",
     "output_type": "stream",
     "text": [
      "[[0.37454012]]\n",
      "[[12.49448143]]\n"
     ]
    }
   ],
   "source": [
    "x = np.random.rand(1,1)\n",
    "y = 12*x + 8\n",
    "\n",
    "print(x)\n",
    "print(y)"
   ]
  },
  {
   "cell_type": "code",
   "execution_count": 4,
   "id": "9b347547",
   "metadata": {},
   "outputs": [
    {
     "data": {
      "text/plain": [
       "(1, 1)"
      ]
     },
     "execution_count": 4,
     "metadata": {},
     "output_type": "execute_result"
    }
   ],
   "source": [
    "x.shape"
   ]
  },
  {
   "cell_type": "markdown",
   "id": "2a32cf48",
   "metadata": {},
   "source": [
    "$$z = \\sigma \\sum_{i=1}^{n}\\left ( \\vec{x_i}\\vec{w_i} \\right ) + b$$"
   ]
  },
  {
   "cell_type": "markdown",
   "id": "31b1daa0",
   "metadata": {},
   "source": [
    "$$MSE = \\frac{1}{n}\\sum_{i = 1}^{n}(Y_i - \\hat{Y_i})^2$$"
   ]
  },
  {
   "cell_type": "markdown",
   "id": "651014d8",
   "metadata": {},
   "source": [
    "W' = W + \\alpha \\frac{}{}"
   ]
  },
  {
   "cell_type": "code",
   "execution_count": 5,
   "id": "446f9234",
   "metadata": {},
   "outputs": [],
   "source": [
    "class Neuron:\n",
    "    \n",
    "    def __init__(self, input_size, learning_rate, epoch):\n",
    "        \"\"\"\n",
    "            input_size = jumlah baris dari input\n",
    "            \n",
    "        \"\"\"\n",
    "        self.w = np.random.rand(input_size, 1)\n",
    "        self.bias = np.random.rand(1, 1)\n",
    "        self.learning_rate = learning_rate\n",
    "        self.epoch = epoch\n",
    "        \n",
    "    # method for feedforward\n",
    "    def f_forward(self, inp):\n",
    "        \"\"\"\n",
    "            inp = data input\n",
    "        \"\"\"\n",
    "        result = inp.T.dot(self.w) + self.bias\n",
    "        return result\n",
    "    \n",
    "    # mean squared error\n",
    "    def loss(self, x, y):\n",
    "        \"\"\"\n",
    "            x = data input\n",
    "            y = real output\n",
    "        \"\"\"\n",
    "        a = self.f_forward(x)\n",
    "        L = (a - y)**2\n",
    "        return L\n",
    "    \n",
    "    # backpropagation\n",
    "    def backward(self, x, y):\n",
    "        \"\"\"\n",
    "            x = data input\n",
    "            y = real output\n",
    "        \"\"\"\n",
    "        a = self.f_forward(x)\n",
    "        \n",
    "        dw = 2.*(a - y) * x.T\n",
    "        db = 2.*(a - y) * 1.\n",
    "        \n",
    "        # gradient descent\n",
    "        self.w = self.w - self.learning_rate * dw.T\n",
    "        self.bias = self.bias - self.learning_rate * db.T\n",
    "        \n",
    "        return self.w, self.bias\n",
    "    \n",
    "    def train(self, x, y):\n",
    "        \"\"\"\n",
    "            x = data input\n",
    "            y = real output\n",
    "        \"\"\"\n",
    "        acc = []\n",
    "        losss = []\n",
    "        for j in range(self.epoch):\n",
    "            l = []\n",
    "            for i in range(x.shape[0]):\n",
    "                l = self.loss(x, y)\n",
    "                w1, b1 = self.backward(x, y)\n",
    "            print(\"epochs:\", j + 1, \"======== acc:\", (1 - (sum(l)/x.shape[0]))*100)\n",
    "            acc.append((1 - (sum(l)/x.shape[0]))*100)\n",
    "            losss.append(sum(l)/x.shape[0])\n",
    "        return (acc, losss, w1, b1)"
   ]
  },
  {
   "cell_type": "code",
   "execution_count": 6,
   "id": "f8e9f94d",
   "metadata": {},
   "outputs": [
    {
     "name": "stdout",
     "output_type": "stream",
     "text": [
      "epochs: 1 ======== acc: [-12910.61168865]\n",
      "epochs: 2 ======== acc: [-156.03013845]\n",
      "epochs: 3 ======== acc: [94.96169486]\n",
      "epochs: 4 ======== acc: [99.9008534]\n",
      "epochs: 5 ======== acc: [99.99804894]\n",
      "epochs: 6 ======== acc: [99.99996161]\n",
      "epochs: 7 ======== acc: [99.99999924]\n",
      "epochs: 8 ======== acc: [99.99999999]\n",
      "epochs: 9 ======== acc: [100.]\n",
      "epochs: 10 ======== acc: [100.]\n"
     ]
    }
   ],
   "source": [
    "neuron = Neuron(1, 0.5, 10)\n",
    "a, b, c, d = neuron.train(x, y)"
   ]
  },
  {
   "cell_type": "code",
   "execution_count": 7,
   "id": "a3e9b544",
   "metadata": {},
   "outputs": [
    {
     "data": {
      "text/plain": [
       "(array([[4.69729921]]), array([[10.73515439]]))"
      ]
     },
     "execution_count": 7,
     "metadata": {},
     "output_type": "execute_result"
    }
   ],
   "source": [
    "c, d"
   ]
  },
  {
   "cell_type": "code",
   "execution_count": 8,
   "id": "3f40f9f6",
   "metadata": {},
   "outputs": [
    {
     "data": {
      "text/plain": [
       "[array([130.10611689]),\n",
       " array([2.56030138]),\n",
       " array([0.05038305]),\n",
       " array([0.00099147]),\n",
       " array([1.95106267e-05]),\n",
       " array([3.83941091e-07]),\n",
       " array([7.55540885e-09]),\n",
       " array([1.48679587e-10]),\n",
       " array([2.92580058e-12]),\n",
       " array([5.75755504e-14])]"
      ]
     },
     "execution_count": 8,
     "metadata": {},
     "output_type": "execute_result"
    }
   ],
   "source": [
    "b"
   ]
  },
  {
   "cell_type": "code",
   "execution_count": null,
   "id": "480f5c4d",
   "metadata": {},
   "outputs": [],
   "source": []
  },
  {
   "cell_type": "code",
   "execution_count": 9,
   "id": "cfe8f4ec",
   "metadata": {},
   "outputs": [
    {
     "name": "stdout",
     "output_type": "stream",
     "text": [
      "aku adalah superman\n"
     ]
    }
   ],
   "source": [
    "print(\"aku adalah superman\")"
   ]
  },
  {
   "cell_type": "code",
   "execution_count": null,
   "id": "1f4608a5",
   "metadata": {},
   "outputs": [],
   "source": []
  }
 ],
 "metadata": {
  "kernelspec": {
   "display_name": "Python 3 (ipykernel)",
   "language": "python",
   "name": "python3"
  },
  "language_info": {
   "codemirror_mode": {
    "name": "ipython",
    "version": 3
   },
   "file_extension": ".py",
   "mimetype": "text/x-python",
   "name": "python",
   "nbconvert_exporter": "python",
   "pygments_lexer": "ipython3",
   "version": "3.8.10"
  }
 },
 "nbformat": 4,
 "nbformat_minor": 5
}
